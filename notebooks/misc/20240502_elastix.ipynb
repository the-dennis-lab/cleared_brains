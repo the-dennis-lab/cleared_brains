{
 "cells": [
  {
   "cell_type": "code",
   "execution_count": 1,
   "id": "0e70bf31",
   "metadata": {},
   "outputs": [],
   "source": [
    "import itk\n",
    "import numpy as np\n",
    "import matplotlib.pyplot as plt\n",
    "from scipy.ndimage import zoom"
   ]
  },
  {
   "cell_type": "code",
   "execution_count": 2,
   "id": "5b7bb716",
   "metadata": {},
   "outputs": [],
   "source": [
    "mv = itk.imread('/home/dennislab2/Desktop/brains/mc4_sag.tif')\n",
    "mv_140 = zoom(mv,1.4)\n",
    "fx = itk.imread('/home/dennislab2/Desktop/brains/mc6_sag.tif')"
   ]
  },
  {
   "cell_type": "code",
   "execution_count": 3,
   "id": "c3cccb14",
   "metadata": {},
   "outputs": [
    {
     "name": "stdout",
     "output_type": "stream",
     "text": [
      "(444, 351, 719) (622, 491, 1007)\n"
     ]
    }
   ],
   "source": [
    "print(np.shape(mv),np.shape(mv_140))"
   ]
  },
  {
   "cell_type": "code",
   "execution_count": 6,
   "id": "eb6f6d55",
   "metadata": {},
   "outputs": [],
   "source": [
    "parameter_object = itk.ParameterObject.New()\n",
    "parameter_object.AddParameterFile('/home/dennislab2/Desktop/GitHub/cleared_brains/parameter_folder/Order1_Par0000affine.txt')\n",
    "#parameter_object.AddParameterFile('/home/dennislab2/Desktop/GitHub/cleared_brains/parameter_folder/Order3_Par0000bspline.txt')\n",
    "#parameter_object.AddParameterFile('/home/dennislab2/Desktop/GitHub/cleared_brains/parameter_folder/Order4_Par0000bspline.txt')\n",
    "#parameter_object.AddParameterFile('/home/dennislab2/Desktop/GitHub/cleared_brains/parameter_folder/Order5_Par0000bspline.txt')"
   ]
  },
  {
   "cell_type": "code",
   "execution_count": null,
   "id": "85432ae5",
   "metadata": {},
   "outputs": [],
   "source": [
    "result_img_elx, result_transform_params = itk.elastix_registration_method(fx,mv,parameter_object,log_to_file=True,output_directory='/home/dennislab2/Desktop/test/')"
   ]
  },
  {
   "cell_type": "code",
   "execution_count": null,
   "id": "8d10b539",
   "metadata": {},
   "outputs": [],
   "source": [
    "result_img_elx_140, result_transform_params_140 = itk.elastix_registration_method(fx,mv_140,parameter_object)"
   ]
  },
  {
   "cell_type": "code",
   "execution_count": null,
   "id": "fc8fa778",
   "metadata": {},
   "outputs": [],
   "source": [
    "idx=400"
   ]
  },
  {
   "cell_type": "code",
   "execution_count": null,
   "id": "355db7e1",
   "metadata": {},
   "outputs": [],
   "source": [
    "plt.imshow(result_img_elx[:,:,idx])"
   ]
  },
  {
   "cell_type": "code",
   "execution_count": null,
   "id": "82600566",
   "metadata": {},
   "outputs": [],
   "source": [
    "plt.imshow(result_img_elx_140[:,:,idx])"
   ]
  },
  {
   "cell_type": "code",
   "execution_count": 4,
   "id": "b6f38b64",
   "metadata": {},
   "outputs": [],
   "source": [
    "?itk.elastix_registration_method"
   ]
  },
  {
   "cell_type": "code",
   "execution_count": null,
   "id": "6ecb1f22",
   "metadata": {},
   "outputs": [],
   "source": []
  }
 ],
 "metadata": {
  "kernelspec": {
   "display_name": "Python 3 (ipykernel)",
   "language": "python",
   "name": "python3"
  },
  "language_info": {
   "codemirror_mode": {
    "name": "ipython",
    "version": 3
   },
   "file_extension": ".py",
   "mimetype": "text/x-python",
   "name": "python",
   "nbconvert_exporter": "python",
   "pygments_lexer": "ipython3",
   "version": "3.7.12"
  }
 },
 "nbformat": 4,
 "nbformat_minor": 5
}
