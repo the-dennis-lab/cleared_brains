{
 "cells": [
  {
   "cell_type": "code",
   "execution_count": 113,
   "id": "7a0d49cf",
   "metadata": {},
   "outputs": [],
   "source": [
    "import itk, os\n",
    "import numpy as np\n",
    "import matplotlib.pyplot as plt\n",
    "from scipy.ndimage import zoom\n",
    "import tifffile as tif\n",
    "import pandas as pd"
   ]
  },
  {
   "cell_type": "markdown",
   "id": "81003bc8",
   "metadata": {},
   "source": [
    "# before this step, everything happens on the cluster\n",
    "1. first Nishan takes the raw data and makes it into a dataset.h5 and dataset.xml file compatible with BigStitcher\n",
    "2. we run CellMap_20240830.py on the dataset.h5 file. This is read, split into tiffs, and cm2 is run with these parameters below, which eventually creates \"cells_filtered.npy\"\n",
    "\n",
    "```\n",
    "  cell_detection_parameter = cells.default_cell_detection_parameter.copy();\n",
    "  cell_detection_parameter['illumination_correction'] = None;\n",
    "  cell_detection_parameter['background_correction']['shape'] = (12,12);\n",
    "  cell_detection_parameter['intensity_detection']['measure'] = ['source'];\n",
    "  cell_detection_parameter['shape_detection']['threshold'] = 100;\n",
    "  \n",
    "  io.delete_file(ws.filename('cells', postfix='maxima'))\n",
    "  cell_detection_parameter['maxima_detection']['save'] = ws.filename('cells', p>\n",
    "  sys.stdout.write('on processing param')\n",
    "  processing_parameter = cells.default_cell_detection_processing_parameter.copy>\n",
    "  processing_parameter.update(\n",
    "      processes = 40, # 'serial',\n",
    "      size_max = 100, #100, #35,\n",
    "      size_min = 30, #30,\n",
    "      overlap  = 15, #32, #10,\n",
    "      verbose = True\n",
    "      )\n",
    "      \n",
    "  thresholds = {\n",
    "      'source' : 3,\n",
    "      'size'   : (9,420)\n",
    "      }\n",
    "\n",
    "```"
   ]
  },
  {
   "cell_type": "code",
   "execution_count": 2,
   "id": "10446847",
   "metadata": {},
   "outputs": [
    {
     "data": {
      "text/plain": [
       "(12203987,)"
      ]
     },
     "execution_count": 2,
     "metadata": {},
     "output_type": "execute_result"
    }
   ],
   "source": [
    "cells = np.load('../../../../2024-02-01/cells_filtered.npy')\n",
    "np.shape(cells)"
   ]
  },
  {
   "cell_type": "code",
   "execution_count": 5,
   "id": "9dd775fd",
   "metadata": {},
   "outputs": [
    {
     "name": "stdout",
     "output_type": "stream",
     "text": [
      "2047\n",
      "2047\n",
      "39650\n"
     ]
    }
   ],
   "source": [
    "print(np.max(cells['x']))\n",
    "print(np.max(cells['y']))\n",
    "print(np.max(cells['z']))"
   ]
  },
  {
   "cell_type": "code",
   "execution_count": 6,
   "id": "a32de0c4",
   "metadata": {},
   "outputs": [
    {
     "data": {
      "text/plain": [
       "39650"
      ]
     },
     "execution_count": 6,
     "metadata": {},
     "output_type": "execute_result"
    }
   ],
   "source": [
    "df_cells = pd.DataFrame(cells[['x','y','z']])\n",
    "np.max(df_cells.z)"
   ]
  },
  {
   "cell_type": "code",
   "execution_count": 10,
   "id": "bf495bbe",
   "metadata": {},
   "outputs": [
    {
     "name": "stderr",
     "output_type": "stream",
     "text": [
      "\n",
      "A value is trying to be set on a copy of a slice from a DataFrame.\n",
      "Try using .loc[row_indexer,col_indexer] = value instead\n",
      "\n",
      "See the caveats in the documentation: https://pandas.pydata.org/pandas-docs/stable/user_guide/indexing.html#returning-a-view-versus-a-copy\n"
     ]
    },
    {
     "name": "stdout",
     "output_type": "stream",
     "text": [
      "on s00 len is  656904\n",
      "on s01 len is  1451126\n",
      "on s02 len is  1304171\n",
      "on s03 len is  538076\n",
      "on s04 len is  338283\n",
      "on s05 len is  794268\n",
      "on s06 len is  771246\n",
      "on s07 len is  426339\n",
      "on s08 len is  624290\n",
      "on s09 len is  685837\n",
      "on s10 len is  649258\n",
      "on s11 len is  493566\n",
      "on s12 len is  394669\n",
      "on s13 len is  626691\n",
      "on s14 len is  564342\n",
      "on s15 len is  341493\n",
      "on s16 len is  16124\n",
      "on s17 len is  725992\n",
      "on s18 len is  775465\n",
      "on s19 len is  25847\n"
     ]
    }
   ],
   "source": [
    "i=-1\n",
    "for val in np.arange(0,40000,2000):\n",
    "    #for 05-13 should be 1124 not 1999 (1125 multiples)\n",
    "    i+=1\n",
    "    sub_df=df_cells[(df_cells.z>=val)&(df_cells.z<val+2000)]\n",
    "    sub_df.z=sub_df.z-(i*2000)\n",
    "    print('on s{:02d}'.format(i),'len is ',len(sub_df))\n",
    "    sub_df.to_csv('../../../../2024-02-01/s{:02d}_cells.csv'.format(i),header=False,index=False)"
   ]
  },
  {
   "cell_type": "markdown",
   "id": "15e0c370",
   "metadata": {},
   "source": [
    "# then use big stitcher to run and come back to python\n",
    "\n",
    "```\n",
    "for i in {0..19}; \n",
    "do   (./transform-points --csvIn=\"../../2024-02-01/s${i}_cells.csv\" --xml='../../2024-02-01/dataset.xml' -vi=\"0,${i}\" --csvOut=\"../../2024-02-01/transformed_cells_${i}.txt\" | tail -1); \n",
    "done\n",
    "```\n",
    "each volume space is originally in - to + coordinates that are somewhat random.\n",
    "long term we should resave the xml such that the lowest point is 0,0,0\n",
    "in the mean time I manually get the points\n",
    "\n",
    "```\n",
    "./transform-points -p=0,0,0 --xml='../../2024-02-01/dataset.xml' -vi=\"0,0\"\n",
    "\n",
    "```\n",
    "\n",
    "which output\n",
    "\n",
    "```\n",
    "[-p=0,0,0, --xml=../../2024-02-01/dataset.xml, -vi=0,19]\n",
    "xml: ../../2024-02-01/dataset.xml\n",
    "Full bounding for acquisition: [-3348, -4153, -2150] -> [3361, 3984, 2052], dimensions (6710, 8138, 4203)\n",
    "Using transformations of viewId: tpId=0 setupId=19\n",
    "Applying 3d affine: 3d-affine: (0.9989147448484597, 0.0036842417426456364, -0.005586419932087294, -3336.382952430128, 0.009194227906874658, 0.9955467924508379, 0.003135422288656974, 1920.6325773574902, 0.012798322745635287, -0.003820968549952102, 2.0549030943040103, -2141.9206927840173)\n",
    "-3336.382952430128,1920.6325773574902,-2141.9206927840173\n",
    "\n",
    "```"
   ]
  },
  {
   "cell_type": "code",
   "execution_count": 51,
   "id": "0303be93",
   "metadata": {},
   "outputs": [
    {
     "name": "stdout",
     "output_type": "stream",
     "text": [
      "0\n",
      "1\n",
      "2\n",
      "3\n",
      "4\n",
      "5\n",
      "6\n",
      "7\n",
      "8\n",
      "9\n",
      "10\n",
      "11\n",
      "12\n",
      "13\n",
      "14\n",
      "15\n",
      "16\n",
      "17\n",
      "18\n",
      "19\n"
     ]
    }
   ],
   "source": [
    "# now cells are in volume space - each volume is a tile\n",
    "# tile 0 is on the top right, tile 3 is the top left, tile 4 is second row far right...\n",
    "# for 2024-02 each tile is 2048,2048,1999 and there are 19 tiles\n",
    "    # the final downsampled tiff is axially sliced from the top of the brain to bottom, \n",
    "    # with cerebellum at the top of the image\n",
    "    # 560x, 679y, 351z\n",
    "\n",
    "for sval in np.arange(0,20):\n",
    "    print(sval)\n",
    "    data = pd.read_csv('../../../../2024-02-01/transformed_cells_{}.txt'.format(sval),header=None)\n",
    "    data.columns=['x','y','z']\n",
    "    # these below values are manually added based on the output from the transform_points call above & final volume size\n",
    "    # this should be automated in the future\n",
    "    xoff,yoff,zoff = [-3348, -4153, -2150]\n",
    "    xmax,ymax,zmax=[6710, 8138, 4203]\n",
    "    cmx,cmy,cmz=[560,679,351]\n",
    "\n",
    "    data.x=((data.x-xoff)*(cmx/xmax)).astype(int)\n",
    "    data.y=((data.y-yoff)*(cmy/ymax)).astype(int)\n",
    "    data.z=((data.z-zoff)*(cmz/zmax)).astype(int)\n",
    "\n",
    "    # now reformat these points for transformix\n",
    "    df=pd.DataFrame([['point','',''],[str(len(data)),'','']],columns=['x','y','z'])\n",
    "    df = pd.concat([df,data]).reset_index(drop=True)\n",
    "    df.to_csv('/home/dennislab2/Desktop/2024-02-01/2024-02-01_points_s{}.txt'.format(sval),sep=' ',header=None,index=None)\n",
    "\n",
    "    \n",
    "# for 2024-05 each tile is 2048,2048,1124 and there are 19 tiles (4 columns, 5 rows)\n",
    "    # same axial orientation as 2024-02\n",
    "    # 512, 641, 356 dimensions\n"
   ]
  },
  {
   "cell_type": "code",
   "execution_count": 8,
   "id": "4ac38994",
   "metadata": {},
   "outputs": [],
   "source": [
    "# transform points from downsampled to allen\n",
    "# the function itself actually takes from the FIXED volume and puts in the MOVING volume,\n",
    "# so we need to align the allen (moving) to the downsampled volume (fixed)\n",
    "# one caveat: having a volume approximately 1.4x the size of the fixed is really nice, so we're\n",
    "# going to do that, but have to divide everything by 1.4 at the end to get it into proper allen space\n",
    "# ALSO I resliced Allen from sagittal to axial to match our volumes and avoid more axis swaps\n",
    "\n",
    "fx = itk.imread('../../../../brains/2024-02-01_141816_fused_12.tif',pixel_type=itk.US)\n",
    "mv = itk.imread('../../../../brains/allenCCF_25_resliced.tif')\n"
   ]
  },
  {
   "cell_type": "markdown",
   "id": "e3536358",
   "metadata": {},
   "source": [
    "# you only need to make the larger volume once, make this block 'code' to do so\n",
    "reshape_vals=[]\n",
    "for i in np.arange(0,3):\n",
    "    mvshape = np.shape(mv)\n",
    "    fxshape = np.shape(fx)\n",
    "    reshape_vals.append((1.4*(fxshape[i]/mvshape[i])))\n",
    "print(reshape_vals)\n",
    "mv_140 = zoom(mv,reshape_vals,mode='nearest')\n",
    "\n",
    "tif.imsave('../../../../allen_140.tif',mv_140)\n",
    "print(np.shape(mv_140))"
   ]
  },
  {
   "cell_type": "code",
   "execution_count": 6,
   "id": "d3c8bb82",
   "metadata": {},
   "outputs": [],
   "source": [
    "mv_140= itk.imread('../../../../brains/allenCCF_25_resliced.tif')"
   ]
  },
  {
   "cell_type": "markdown",
   "id": "dd5b1f14",
   "metadata": {},
   "source": [
    "# if you haven't already, run alignment, takes about an hour BUT you only need to do this once! \n",
    "# turn this into a code block to run\n",
    "\n",
    "\n",
    "# set the transforms\n",
    "parameter_object = itk.ParameterObject.New()\n",
    "parameter_object.AddParameterFile('/home/dennislab2/Desktop/GitHub/cleared_brains/parameter_folder/Order1_Par0000affine.txt')\n",
    "parameter_object.AddParameterFile('/home/dennislab2/Desktop/GitHub/cleared_brains/parameter_folder/Order3_Par0000bspline.txt')\n",
    "parameter_object.AddParameterFile('/home/dennislab2/Desktop/GitHub/cleared_brains/parameter_folder/Order4_Par0000bspline.txt')\n",
    "parameter_object.AddParameterFile('/home/dennislab2/Desktop/GitHub/cleared_brains/parameter_folder/Order5_Par0000bspline.txt')\n",
    "\n",
    "os.mkdir('/home/dennislab2/Desktop/allen_to_2024-02-01/')\n",
    "result_img_elx, result_transform_params = itk.elastix_registration_method(fx,mv_140,parameter_object,log_to_file=True,output_directory='/home/dennislab2/Desktop/allen_to_2024-02-01')"
   ]
  },
  {
   "cell_type": "code",
   "execution_count": 11,
   "id": "0d10b10b",
   "metadata": {},
   "outputs": [],
   "source": [
    "# instead we load the param files from our elastix output folder\n",
    "transform_to_apply=itk.elxParameterObjectPython.elastixParameterObject_New()\n",
    "transform_to_apply.AddParameterFile('../../../../2024-02-01/TransformParameters.0.txt')\n",
    "transform_to_apply.AddParameterFile('../../../../2024-02-01/TransformParameters.1.txt')\n",
    "transform_to_apply.AddParameterFile('../../../../2024-02-01/TransformParameters.2.txt')\n",
    "transform_to_apply.AddParameterFile('../../../../2024-02-01/TransformParameters.3.txt')"
   ]
  },
  {
   "cell_type": "code",
   "execution_count": 30,
   "id": "445f5edf",
   "metadata": {},
   "outputs": [],
   "source": [
    "elx_out=itk.transformix_filter(mv_anns,transform_to_apply)"
   ]
  },
  {
   "cell_type": "code",
   "execution_count": 18,
   "id": "0dadeb24",
   "metadata": {},
   "outputs": [],
   "source": [
    "mv_anns = itk.imread('../../../../brains/annotation_template_25_resliced.tif')"
   ]
  },
  {
   "cell_type": "code",
   "execution_count": 23,
   "id": "d3808444",
   "metadata": {},
   "outputs": [],
   "source": [
    "itk.imwrite(elx_out,'../../../../anns_in_20240201.tif')"
   ]
  },
  {
   "cell_type": "code",
   "execution_count": 114,
   "id": "cc033896",
   "metadata": {},
   "outputs": [],
   "source": [
    "df = pd.read_csv('/Users/dennise/Desktop/emily/2024-02-01/points_transformixed_12.csv')"
   ]
  },
  {
   "cell_type": "code",
   "execution_count": 117,
   "id": "4f1d3bd9",
   "metadata": {},
   "outputs": [
    {
     "name": "stdout",
     "output_type": "stream",
     "text": [
      "0\n",
      "1\n",
      "2\n",
      "3\n",
      "4\n",
      "5\n",
      "6\n",
      "7\n",
      "8\n",
      "9\n",
      "10\n",
      "11\n",
      "12\n",
      "13\n",
      "14\n",
      "15\n",
      "16\n",
      "17\n",
      "18\n",
      "19\n"
     ]
    }
   ],
   "source": [
    "cells=np.zeros((528,528,528))\n",
    "for sval in np.arange(0,20):\n",
    "    print(sval)\n",
    "    dfx=pd.read_csv('/Users/dennise/Desktop/emily/2024-02-01/points_transformixed_{}.csv'.format(sval))\n",
    "    for idx in dfx.index:\n",
    "        x,y,z=[dfx.x[idx],dfx.y[idx],dfx.z[idx]]\n",
    "        if (x<528) and (y<528) and (z<528):\n",
    "            cells[x,y,z]+=1\n",
    "    np.save('/Users/dennise/Desktop/2024-02-01_cells_at{}.npy'.format(sval),cells)\n"
   ]
  },
  {
   "cell_type": "code",
   "execution_count": 140,
   "id": "a7b5c79d",
   "metadata": {},
   "outputs": [],
   "source": [
    "rearranged_arr = cells.transpose(2,1,0) # y is what x should be and x is what y should be"
   ]
  },
  {
   "cell_type": "code",
   "execution_count": 143,
   "id": "924bfc9b",
   "metadata": {},
   "outputs": [
    {
     "data": {
      "text/plain": [
       "(320, 528, 456)"
      ]
     },
     "execution_count": 143,
     "metadata": {},
     "output_type": "execute_result"
    }
   ],
   "source": [
    "rearranged_arr=rearranged_arr[0:320,0:528,0:456]\n",
    "np.shape(rearranged_arr)"
   ]
  },
  {
   "cell_type": "code",
   "execution_count": 153,
   "id": "d3d448e5",
   "metadata": {},
   "outputs": [],
   "source": [
    "tif.imsave('/Users/dennise/Desktop/rearranged_arr_02.tif',rearranged_arr)"
   ]
  },
  {
   "cell_type": "code",
   "execution_count": 152,
   "id": "21b3a583",
   "metadata": {},
   "outputs": [
    {
     "data": {
      "text/plain": [
       "<matplotlib.image.AxesImage at 0x167c7682250>"
      ]
     },
     "execution_count": 152,
     "metadata": {},
     "output_type": "execute_result"
    },
    {
     "data": {
      "image/png": "[encoded data removed]",
      "text/plain": [
       "<Figure size 432x288 with 1 Axes>"
      ]
     },
     "metadata": {
      "needs_background": "light"
     },
     "output_type": "display_data"
    }
   ],
   "source": [
    "plt.imshow(mv_anns[:,200,:],clim=(0,1000))"
   ]
  },
  {
   "cell_type": "code",
   "execution_count": 149,
   "id": "637fa8c5",
   "metadata": {},
   "outputs": [
    {
     "data": {
      "text/plain": [
       "<matplotlib.image.AxesImage at 0x167c741f9a0>"
      ]
     },
     "execution_count": 149,
     "metadata": {},
     "output_type": "execute_result"
    },
    {
     "data": {
      "image/png": "[encoded data removed]",
      "text/plain": [
       "<Figure size 432x288 with 1 Axes>"
      ]
     },
     "metadata": {
      "needs_background": "light"
     },
     "output_type": "display_data"
    }
   ],
   "source": []
  },
  {
   "cell_type": "code",
   "execution_count": 27,
   "id": "d63d5dfe",
   "metadata": {},
   "outputs": [
    {
     "name": "stdout",
     "output_type": "stream",
     "text": [
      "0\n",
      "1\n",
      "2\n",
      "3\n",
      "4\n",
      "5\n",
      "6\n",
      "7\n",
      "8\n",
      "9\n",
      "10\n",
      "11\n",
      "12\n",
      "13\n",
      "14\n",
      "15\n",
      "16\n",
      "17\n",
      "18\n",
      "19\n"
     ]
    }
   ],
   "source": [
    "cells=np.zeros((528,528,528))\n",
    "for sval in np.arange(0,20):\n",
    "    print(sval)\n",
    "    transformed_coords=itk.transformix_pointset(mv,transform_to_apply,fixed_point_set_file_name='/Users/dennise/Desktop/2024-02-01/2024-02-01/2024-02-01_points_s{}.txt'.format(sval),output_directory=\"/Users/dennise/Desktop/2024-02-01\")\n",
    "    dfx=pd.DataFrame(transformed_coords)\n",
    "    dfx.columns = dfx.columns.astype(str)\n",
    "    dfx = dfx[['46','47','48']]\n",
    "    dfx.columns=['x','y','z']\n",
    "    dfx.x=dfx.x.astype(int)\n",
    "    dfx.y=dfx.y.astype(int)\n",
    "    dfx.z=dfx.z.astype(int)\n",
    "    dfx.to_csv('/Users/dennise/Desktop/2024-02-01/points_transformixed_{}.csv'.format(sval))\n",
    "    for idx in dfx.index:\n",
    "        x,y,z=[dfx.x[idx],dfx.y[idx],dfx.z[idx]]\n",
    "        if (x<528) and (y<528) and (z<456):\n",
    "            cells[x,y,z]+=1\n",
    "    np.save('/Users/dennise/Desktop/2024-02-01_cells_at{}.npy'.format(sval),cells)\n"
   ]
  },
  {
   "cell_type": "code",
   "execution_count": 29,
   "id": "54586630",
   "metadata": {},
   "outputs": [
    {
     "ename": "TypeError",
     "evalue": "'>' not supported between instances of 'itkImageF3' and 'int'",
     "output_type": "error",
     "traceback": [
      "\u001b[1;31m---------------------------------------------------------------------------\u001b[0m",
      "\u001b[1;31mTypeError\u001b[0m                                 Traceback (most recent call last)",
      "Input \u001b[1;32mIn [29]\u001b[0m, in \u001b[0;36m<cell line: 2>\u001b[1;34m()\u001b[0m\n\u001b[0;32m      1\u001b[0m ann_mask\u001b[38;5;241m=\u001b[39melx_out\n\u001b[1;32m----> 2\u001b[0m ann_mask[\u001b[43mann_mask\u001b[49m\u001b[38;5;241;43m>\u001b[39;49m\u001b[38;5;241;43m0\u001b[39;49m]\u001b[38;5;241m=\u001b[39m\u001b[38;5;241m1\u001b[39m\n\u001b[0;32m      3\u001b[0m cells \u001b[38;5;241m=\u001b[39m cells\u001b[38;5;241m*\u001b[39mann_mask\n",
      "\u001b[1;31mTypeError\u001b[0m: '>' not supported between instances of 'itkImageF3' and 'int'"
     ]
    }
   ],
   "source": [
    "ann_mask=elx_out\n",
    "ann_mask[ann_mask>0]=1\n",
    "cells = cells*ann_mask"
   ]
  },
  {
   "cell_type": "code",
   "execution_count": null,
   "id": "367442d6",
   "metadata": {},
   "outputs": [],
   "source": []
  },
  {
   "cell_type": "code",
   "execution_count": null,
   "id": "837e623c",
   "metadata": {},
   "outputs": [],
   "source": []
  },
  {
   "cell_type": "code",
   "execution_count": null,
   "id": "fccc1f4b",
   "metadata": {},
   "outputs": [],
   "source": []
  },
  {
   "cell_type": "code",
   "execution_count": null,
   "id": "bcc7d9b4",
   "metadata": {},
   "outputs": [],
   "source": []
  },
  {
   "cell_type": "code",
   "execution_count": null,
   "id": "64934e00",
   "metadata": {},
   "outputs": [],
   "source": []
  },
  {
   "cell_type": "code",
   "execution_count": 14,
   "id": "d8a7d281",
   "metadata": {},
   "outputs": [],
   "source": [
    "dfx=pd.DataFrame(transformed_coords)\n",
    "dfx.columns = dfx.columns.astype(str)\n",
    "dfx = dfx[['46','47','48']]\n",
    "dfx.columns=['x','y','z']\n",
    "dfx.x=round(dfx.x.astype(int)/1.4).astype(int)\n",
    "dfx.y=round(dfx.y.astype(int)/1.4).astype(int)\n",
    "dfx.z=round(dfx.z.astype(int)/1.4).astype(int)"
   ]
  },
  {
   "cell_type": "code",
   "execution_count": 17,
   "id": "1f6981c1",
   "metadata": {},
   "outputs": [
    {
     "data": {
      "text/plain": [
       "<matplotlib.collections.PathCollection at 0x7fde36438dd8>"
      ]
     },
     "execution_count": 17,
     "metadata": {},
     "output_type": "execute_result"
    },
    {
     "data": {
      "image/png": "[encoded data removed]",
      "text/plain": [
       "<Figure size 640x480 with 1 Axes>"
      ]
     },
     "metadata": {},
     "output_type": "display_data"
    }
   ],
   "source": [
    "plt.scatter(dfx.x,dfx.y,s=1,alpha=.1)"
   ]
  },
  {
   "cell_type": "code",
   "execution_count": 46,
   "id": "6d5b1e2d",
   "metadata": {},
   "outputs": [
    {
     "data": {
      "text/plain": [
       "218"
      ]
     },
     "execution_count": 46,
     "metadata": {},
     "output_type": "execute_result"
    }
   ],
   "source": []
  },
  {
   "cell_type": "code",
   "execution_count": 54,
   "id": "5efead80",
   "metadata": {},
   "outputs": [],
   "source": [
    "newcells=np.zeros((530,530,530))\n",
    "for sval in np.arange(0,20):\n",
    "    dfx = pd.read_csv('/Users/dennise/Desktop/2024-02-01/points_transformixed_{}.csv'.format(sval))\n",
    "    for idx in dfx.index:\n",
    "            x,y,z=[dfx.x[idx],dfx.y[idx],dfx.z[idx]]\n",
    "            if (x<530) and (y<530) and (z<530):\n",
    "                newcells[y,z,x]+=1"
   ]
  },
  {
   "cell_type": "code",
   "execution_count": 55,
   "id": "101dbd3c",
   "metadata": {},
   "outputs": [],
   "source": [
    "tif.imsave('/Users/dennise/Desktop/newcells_yzx.tif',newcells)"
   ]
  },
  {
   "cell_type": "code",
   "execution_count": 154,
   "id": "78cea7e3",
   "metadata": {},
   "outputs": [],
   "source": [
    "ann_mask = tif.imread('/Users/dennise/Desktop/testcerebellum.tif')"
   ]
  },
  {
   "cell_type": "code",
   "execution_count": 56,
   "id": "0358aaa6",
   "metadata": {},
   "outputs": [],
   "source": [
    "cells = np.load('/Users/dennise/Desktop/emily/2024-02-01_cells_at19.npy')"
   ]
  },
  {
   "cell_type": "code",
   "execution_count": 57,
   "id": "207f34c3",
   "metadata": {},
   "outputs": [],
   "source": [
    "tif.imsave('/Users/dennise/Desktop/02cells.tif',cells)"
   ]
  },
  {
   "cell_type": "code",
   "execution_count": 59,
   "id": "0113e98c",
   "metadata": {},
   "outputs": [],
   "source": [
    "tif.imsave('/Users/dennise/Desktop/02cells_div.tif',cells/9081734)"
   ]
  },
  {
   "cell_type": "code",
   "execution_count": 80,
   "id": "a51b8274",
   "metadata": {},
   "outputs": [],
   "source": [
    "anns=ann_mask"
   ]
  },
  {
   "cell_type": "code",
   "execution_count": 87,
   "id": "3d36a782",
   "metadata": {},
   "outputs": [],
   "source": [
    "tif.imsave('/Users/dennise/Desktop/testcerebellum.tif',ann_mask)"
   ]
  },
  {
   "cell_type": "code",
   "execution_count": 79,
   "id": "f3866fa1",
   "metadata": {},
   "outputs": [],
   "source": [
    "ann_mask=tif.imread('/Users/dennise/Desktop/emily/brains/annotation_template_25_resliced.tif')"
   ]
  },
  {
   "cell_type": "code",
   "execution_count": 252,
   "id": "7612d49d",
   "metadata": {},
   "outputs": [],
   "source": [
    "ann_mask = anns.copy()\n"
   ]
  },
  {
   "cell_type": "code",
   "execution_count": 258,
   "id": "ce0eec1f",
   "metadata": {},
   "outputs": [],
   "source": [
    "cerebellum=[]\n",
    "df = pd.read_csv('/Users/dennise/Downloads/structure_tree_safe.csv')\n",
    "for idx in df.index:\n",
    "    if ('512' in df.structure_id_path[idx]) or ('960' in df.structure_id_path[idx]):\n",
    "        cerebellum.append(int(df.id[idx]))"
   ]
  },
  {
   "cell_type": "code",
   "execution_count": 259,
   "id": "ee9a561c",
   "metadata": {},
   "outputs": [],
   "source": [
    "for cerebellarval in cerebellum:\n",
    "    ann_mask[ann_mask==cerebellarval]=0\n",
    "#ann_mask[ann_mask>0]=1"
   ]
  },
  {
   "cell_type": "code",
   "execution_count": 260,
   "id": "63cc5a7b",
   "metadata": {},
   "outputs": [],
   "source": [
    "tif.imsave('/Users/dennise/Desktop/annmasktest.tif',ann_mask)"
   ]
  },
  {
   "cell_type": "code",
   "execution_count": 265,
   "id": "a00cf06e",
   "metadata": {},
   "outputs": [
    {
     "data": {
      "text/plain": [
       "array([        1,         2,         3, ..., 560581563, 563807435,\n",
       "       563807439], dtype=int64)"
      ]
     },
     "execution_count": 265,
     "metadata": {},
     "output_type": "execute_result"
    }
   ],
   "source": []
  },
  {
   "cell_type": "code",
   "execution_count": null,
   "id": "98c63cf9",
   "metadata": {},
   "outputs": [],
   "source": []
  },
  {
   "cell_type": "code",
   "execution_count": null,
   "id": "dc3d32ec",
   "metadata": {},
   "outputs": [],
   "source": []
  },
  {
   "cell_type": "code",
   "execution_count": null,
   "id": "7580c640",
   "metadata": {},
   "outputs": [],
   "source": []
  },
  {
   "cell_type": "code",
   "execution_count": 168,
   "id": "d91d48e4",
   "metadata": {},
   "outputs": [],
   "source": [
    "nocerebellum=rearranged_arr*ann_actual_mask"
   ]
  },
  {
   "cell_type": "code",
   "execution_count": 169,
   "id": "43711347",
   "metadata": {},
   "outputs": [],
   "source": [
    "tif.imsave('/Users/dennise/Desktop/nocerebellum_cells.tif',nocerebellum)"
   ]
  },
  {
   "cell_type": "code",
   "execution_count": 170,
   "id": "043ccf69",
   "metadata": {},
   "outputs": [
    {
     "data": {
      "text/plain": [
       "11045154.0"
      ]
     },
     "execution_count": 170,
     "metadata": {},
     "output_type": "execute_result"
    }
   ],
   "source": [
    "np.sum(nocerebellum)"
   ]
  },
  {
   "cell_type": "code",
   "execution_count": 171,
   "id": "a743482a",
   "metadata": {},
   "outputs": [],
   "source": [
    "frac_nocerebellum=nocerebellum/11045154"
   ]
  },
  {
   "cell_type": "code",
   "execution_count": 172,
   "id": "4ccbfc78",
   "metadata": {},
   "outputs": [],
   "source": [
    "tif.imsave('/Users/dennise/Desktop/frac_nocerebellum_cells.tif',frac_nocerebellum)"
   ]
  },
  {
   "cell_type": "code",
   "execution_count": 266,
   "id": "c441fe47",
   "metadata": {},
   "outputs": [],
   "source": [
    "ann_frac_vol = np.zeros(np.shape(frac_nocerebellum))\n",
    "valpairs=[]\n",
    "for val in np.unique(anns)[1:]:\n",
    "    sumofall=np.sum(frac_nocerebellum[anns==val])\n",
    "    if len(anncsv.safe_name[anncsv.id==val].to_list())>0:\n",
    "        valpairs.append([val,anncsv.safe_name[anncsv.id==val].to_list()[0],sumofall])\n",
    "    else:\n",
    "        valpairs.append([val,'',sumofall])\n",
    "    ann_frac_vol[anns==val]=sumofall*100"
   ]
  },
  {
   "cell_type": "code",
   "execution_count": 267,
   "id": "ce9156fb",
   "metadata": {},
   "outputs": [],
   "source": [
    "vals=pd.DataFrame(valpairs)"
   ]
  },
  {
   "cell_type": "code",
   "execution_count": 280,
   "id": "7d29662a",
   "metadata": {},
   "outputs": [],
   "source": [
    "vals.columns=['allen_label_no','allen_label','percentofcells']"
   ]
  },
  {
   "cell_type": "code",
   "execution_count": 279,
   "id": "39f2e424",
   "metadata": {},
   "outputs": [
    {
     "data": {
      "text/html": [
       "<div>\n",
       "<style scoped>\n",
       "    .dataframe tbody tr th:only-of-type {\n",
       "        vertical-align: middle;\n",
       "    }\n",
       "\n",
       "    .dataframe tbody tr th {\n",
       "        vertical-align: top;\n",
       "    }\n",
       "\n",
       "    .dataframe thead th {\n",
       "        text-align: right;\n",
       "    }\n",
       "</style>\n",
       "<table border=\"1\" class=\"dataframe\">\n",
       "  <thead>\n",
       "    <tr style=\"text-align: right;\">\n",
       "      <th></th>\n",
       "      <th>allen_label_no</th>\n",
       "      <th>allen_label</th>\n",
       "      <th>percentofcells</th>\n",
       "    </tr>\n",
       "  </thead>\n",
       "  <tbody>\n",
       "    <tr>\n",
       "      <th>0</th>\n",
       "      <td>1.0</td>\n",
       "      <td>Tuberomammillary nucleus ventral part</td>\n",
       "      <td>2.553156e-05</td>\n",
       "    </tr>\n",
       "    <tr>\n",
       "      <th>1</th>\n",
       "      <td>2.0</td>\n",
       "      <td>Primary somatosensory area mouth layer 6b</td>\n",
       "      <td>1.584405e-05</td>\n",
       "    </tr>\n",
       "    <tr>\n",
       "      <th>2</th>\n",
       "      <td>6.0</td>\n",
       "      <td>internal capsule</td>\n",
       "      <td>3.884056e-05</td>\n",
       "    </tr>\n",
       "    <tr>\n",
       "      <th>3</th>\n",
       "      <td>7.0</td>\n",
       "      <td>Principal sensory nucleus of the trigeminal</td>\n",
       "      <td>1.091882e-04</td>\n",
       "    </tr>\n",
       "    <tr>\n",
       "      <th>4</th>\n",
       "      <td>9.0</td>\n",
       "      <td>Primary somatosensory area trunk layer 6a</td>\n",
       "      <td>3.646848e-04</td>\n",
       "    </tr>\n",
       "    <tr>\n",
       "      <th>...</th>\n",
       "      <td>...</td>\n",
       "      <td>...</td>\n",
       "      <td>...</td>\n",
       "    </tr>\n",
       "    <tr>\n",
       "      <th>610</th>\n",
       "      <td>599626944.0</td>\n",
       "      <td></td>\n",
       "      <td>9.053744e-08</td>\n",
       "    </tr>\n",
       "    <tr>\n",
       "      <th>611</th>\n",
       "      <td>606826624.0</td>\n",
       "      <td></td>\n",
       "      <td>1.593459e-05</td>\n",
       "    </tr>\n",
       "    <tr>\n",
       "      <th>612</th>\n",
       "      <td>606826688.0</td>\n",
       "      <td></td>\n",
       "      <td>1.312793e-05</td>\n",
       "    </tr>\n",
       "    <tr>\n",
       "      <th>613</th>\n",
       "      <td>607344832.0</td>\n",
       "      <td></td>\n",
       "      <td>1.646876e-04</td>\n",
       "    </tr>\n",
       "    <tr>\n",
       "      <th>614</th>\n",
       "      <td>614454272.0</td>\n",
       "      <td></td>\n",
       "      <td>8.148370e-06</td>\n",
       "    </tr>\n",
       "  </tbody>\n",
       "</table>\n",
       "<p>615 rows × 3 columns</p>\n",
       "</div>"
      ],
      "text/plain": [
       "     allen_label_no                                  allen_label  \\\n",
       "0               1.0        Tuberomammillary nucleus ventral part   \n",
       "1               2.0    Primary somatosensory area mouth layer 6b   \n",
       "2               6.0                             internal capsule   \n",
       "3               7.0  Principal sensory nucleus of the trigeminal   \n",
       "4               9.0    Primary somatosensory area trunk layer 6a   \n",
       "..              ...                                          ...   \n",
       "610     599626944.0                                                \n",
       "611     606826624.0                                                \n",
       "612     606826688.0                                                \n",
       "613     607344832.0                                                \n",
       "614     614454272.0                                                \n",
       "\n",
       "     percentofcells  \n",
       "0      2.553156e-05  \n",
       "1      1.584405e-05  \n",
       "2      3.884056e-05  \n",
       "3      1.091882e-04  \n",
       "4      3.646848e-04  \n",
       "..              ...  \n",
       "610    9.053744e-08  \n",
       "611    1.593459e-05  \n",
       "612    1.312793e-05  \n",
       "613    1.646876e-04  \n",
       "614    8.148370e-06  \n",
       "\n",
       "[615 rows x 3 columns]"
      ]
     },
     "execution_count": 279,
     "metadata": {},
     "output_type": "execute_result"
    }
   ],
   "source": [
    "vals"
   ]
  },
  {
   "cell_type": "code",
   "execution_count": 281,
   "id": "97e2d6b3",
   "metadata": {},
   "outputs": [
    {
     "data": {
      "text/html": [
       "<div>\n",
       "<style scoped>\n",
       "    .dataframe tbody tr th:only-of-type {\n",
       "        vertical-align: middle;\n",
       "    }\n",
       "\n",
       "    .dataframe tbody tr th {\n",
       "        vertical-align: top;\n",
       "    }\n",
       "\n",
       "    .dataframe thead th {\n",
       "        text-align: right;\n",
       "    }\n",
       "</style>\n",
       "<table border=\"1\" class=\"dataframe\">\n",
       "  <thead>\n",
       "    <tr style=\"text-align: right;\">\n",
       "      <th></th>\n",
       "      <th>allen_label_no</th>\n",
       "      <th>allen_label</th>\n",
       "      <th>percentofcells</th>\n",
       "    </tr>\n",
       "  </thead>\n",
       "  <tbody>\n",
       "    <tr>\n",
       "      <th>595</th>\n",
       "      <td>312782624.0</td>\n",
       "      <td>Rostrolateral area layer 6b</td>\n",
       "      <td>4.542354e-03</td>\n",
       "    </tr>\n",
       "    <tr>\n",
       "      <th>596</th>\n",
       "      <td>312782656.0</td>\n",
       "      <td></td>\n",
       "      <td>2.726082e-04</td>\n",
       "    </tr>\n",
       "    <tr>\n",
       "      <th>597</th>\n",
       "      <td>484682464.0</td>\n",
       "      <td></td>\n",
       "      <td>2.963291e-04</td>\n",
       "    </tr>\n",
       "    <tr>\n",
       "      <th>598</th>\n",
       "      <td>484682496.0</td>\n",
       "      <td>Prosubiculum ventral part molecular layer</td>\n",
       "      <td>3.207742e-04</td>\n",
       "    </tr>\n",
       "    <tr>\n",
       "      <th>599</th>\n",
       "      <td>484682528.0</td>\n",
       "      <td>commissural branch of stria terminalis</td>\n",
       "      <td>7.788031e-04</td>\n",
       "    </tr>\n",
       "    <tr>\n",
       "      <th>600</th>\n",
       "      <td>496345664.0</td>\n",
       "      <td>Dorsal part of the lateral geniculate complex ...</td>\n",
       "      <td>2.308705e-05</td>\n",
       "    </tr>\n",
       "    <tr>\n",
       "      <th>601</th>\n",
       "      <td>526157184.0</td>\n",
       "      <td></td>\n",
       "      <td>7.820624e-04</td>\n",
       "    </tr>\n",
       "    <tr>\n",
       "      <th>602</th>\n",
       "      <td>526322272.0</td>\n",
       "      <td></td>\n",
       "      <td>0.000000e+00</td>\n",
       "    </tr>\n",
       "    <tr>\n",
       "      <th>603</th>\n",
       "      <td>527696992.0</td>\n",
       "      <td></td>\n",
       "      <td>0.000000e+00</td>\n",
       "    </tr>\n",
       "    <tr>\n",
       "      <th>604</th>\n",
       "      <td>549009216.0</td>\n",
       "      <td></td>\n",
       "      <td>7.514608e-06</td>\n",
       "    </tr>\n",
       "    <tr>\n",
       "      <th>605</th>\n",
       "      <td>560581568.0</td>\n",
       "      <td></td>\n",
       "      <td>4.345797e-06</td>\n",
       "    </tr>\n",
       "    <tr>\n",
       "      <th>606</th>\n",
       "      <td>563807424.0</td>\n",
       "      <td></td>\n",
       "      <td>1.810749e-06</td>\n",
       "    </tr>\n",
       "    <tr>\n",
       "      <th>607</th>\n",
       "      <td>576073728.0</td>\n",
       "      <td></td>\n",
       "      <td>3.893110e-06</td>\n",
       "    </tr>\n",
       "    <tr>\n",
       "      <th>608</th>\n",
       "      <td>589508416.0</td>\n",
       "      <td></td>\n",
       "      <td>1.448599e-05</td>\n",
       "    </tr>\n",
       "    <tr>\n",
       "      <th>609</th>\n",
       "      <td>589508480.0</td>\n",
       "      <td></td>\n",
       "      <td>2.535048e-05</td>\n",
       "    </tr>\n",
       "    <tr>\n",
       "      <th>610</th>\n",
       "      <td>599626944.0</td>\n",
       "      <td></td>\n",
       "      <td>9.053744e-08</td>\n",
       "    </tr>\n",
       "    <tr>\n",
       "      <th>611</th>\n",
       "      <td>606826624.0</td>\n",
       "      <td></td>\n",
       "      <td>1.593459e-05</td>\n",
       "    </tr>\n",
       "    <tr>\n",
       "      <th>612</th>\n",
       "      <td>606826688.0</td>\n",
       "      <td></td>\n",
       "      <td>1.312793e-05</td>\n",
       "    </tr>\n",
       "    <tr>\n",
       "      <th>613</th>\n",
       "      <td>607344832.0</td>\n",
       "      <td></td>\n",
       "      <td>1.646876e-04</td>\n",
       "    </tr>\n",
       "    <tr>\n",
       "      <th>614</th>\n",
       "      <td>614454272.0</td>\n",
       "      <td></td>\n",
       "      <td>8.148370e-06</td>\n",
       "    </tr>\n",
       "  </tbody>\n",
       "</table>\n",
       "</div>"
      ],
      "text/plain": [
       "     allen_label_no                                        allen_label  \\\n",
       "595     312782624.0                        Rostrolateral area layer 6b   \n",
       "596     312782656.0                                                      \n",
       "597     484682464.0                                                      \n",
       "598     484682496.0          Prosubiculum ventral part molecular layer   \n",
       "599     484682528.0             commissural branch of stria terminalis   \n",
       "600     496345664.0  Dorsal part of the lateral geniculate complex ...   \n",
       "601     526157184.0                                                      \n",
       "602     526322272.0                                                      \n",
       "603     527696992.0                                                      \n",
       "604     549009216.0                                                      \n",
       "605     560581568.0                                                      \n",
       "606     563807424.0                                                      \n",
       "607     576073728.0                                                      \n",
       "608     589508416.0                                                      \n",
       "609     589508480.0                                                      \n",
       "610     599626944.0                                                      \n",
       "611     606826624.0                                                      \n",
       "612     606826688.0                                                      \n",
       "613     607344832.0                                                      \n",
       "614     614454272.0                                                      \n",
       "\n",
       "     percentofcells  \n",
       "595    4.542354e-03  \n",
       "596    2.726082e-04  \n",
       "597    2.963291e-04  \n",
       "598    3.207742e-04  \n",
       "599    7.788031e-04  \n",
       "600    2.308705e-05  \n",
       "601    7.820624e-04  \n",
       "602    0.000000e+00  \n",
       "603    0.000000e+00  \n",
       "604    7.514608e-06  \n",
       "605    4.345797e-06  \n",
       "606    1.810749e-06  \n",
       "607    3.893110e-06  \n",
       "608    1.448599e-05  \n",
       "609    2.535048e-05  \n",
       "610    9.053744e-08  \n",
       "611    1.593459e-05  \n",
       "612    1.312793e-05  \n",
       "613    1.646876e-04  \n",
       "614    8.148370e-06  "
      ]
     },
     "execution_count": 281,
     "metadata": {},
     "output_type": "execute_result"
    }
   ],
   "source": [
    "vals[-20:]"
   ]
  },
  {
   "cell_type": "code",
   "execution_count": 283,
   "id": "547e6bff",
   "metadata": {},
   "outputs": [],
   "source": [
    "vals.to_csv('/Users/dennise/Desktop/20240201_annfracvol.csv')"
   ]
  },
  {
   "cell_type": "code",
   "execution_count": 282,
   "id": "0e467df5",
   "metadata": {},
   "outputs": [],
   "source": [
    "tif.imsave('/Users/dennise/Desktop/20240201_annfracvol.tif',ann_frac_vol)"
   ]
  },
  {
   "cell_type": "code",
   "execution_count": 237,
   "id": "d9d6d7ae",
   "metadata": {},
   "outputs": [
    {
     "name": "stdout",
     "output_type": "stream",
     "text": [
      "769    TMv\n",
      "Name: acronym, dtype: object\n",
      "78    SSp-m6b\n",
      "Name: acronym, dtype: object\n",
      "1179    int\n",
      "Name: acronym, dtype: object\n"
     ]
    }
   ],
   "source": [
    "anncsv=pd.read_csv('/Users/dennise/Downloads/structure_tree_safe.csv',index_col=None)\n",
    "anncsv=anncsv.drop(columns='Unnamed: 0')\n",
    "anncsv\n",
    "for val in [1.,2.,6.]:\n",
    "    anncsv.acronym[anncsv.id==val]"
   ]
  },
  {
   "cell_type": "code",
   "execution_count": 244,
   "id": "e0db56a1",
   "metadata": {},
   "outputs": [
    {
     "data": {
      "text/plain": [
       "['internal capsule']"
      ]
     },
     "execution_count": 244,
     "metadata": {},
     "output_type": "execute_result"
    }
   ],
   "source": [
    "anncsv.safe_name[anncsv.id==val].to_list()[0]"
   ]
  },
  {
   "cell_type": "code",
   "execution_count": null,
   "id": "7bdab296",
   "metadata": {},
   "outputs": [],
   "source": []
  },
  {
   "cell_type": "code",
   "execution_count": null,
   "id": "3c80d8af",
   "metadata": {},
   "outputs": [],
   "source": []
  },
  {
   "cell_type": "code",
   "execution_count": null,
   "id": "9d59e0c7",
   "metadata": {},
   "outputs": [],
   "source": []
  },
  {
   "cell_type": "code",
   "execution_count": 22,
   "id": "cce740ad",
   "metadata": {},
   "outputs": [
    {
     "name": "stdout",
     "output_type": "stream",
     "text": [
      "0\n",
      "1\n",
      "2\n"
     ]
    },
    {
     "ename": "KeyboardInterrupt",
     "evalue": "",
     "output_type": "error",
     "traceback": [
      "\u001b[0;31m---------------------------------------------------------------------------\u001b[0m",
      "\u001b[0;31mKeyboardInterrupt\u001b[0m                         Traceback (most recent call last)",
      "\u001b[0;32m/tmp/ipykernel_3103462/3129982248.py\u001b[0m in \u001b[0;36m<module>\u001b[0;34m\u001b[0m\n\u001b[1;32m      2\u001b[0m \u001b[0;32mfor\u001b[0m \u001b[0msval\u001b[0m \u001b[0;32min\u001b[0m \u001b[0mnp\u001b[0m\u001b[0;34m.\u001b[0m\u001b[0marange\u001b[0m\u001b[0;34m(\u001b[0m\u001b[0;36m0\u001b[0m\u001b[0;34m,\u001b[0m\u001b[0;36m20\u001b[0m\u001b[0;34m)\u001b[0m\u001b[0;34m:\u001b[0m\u001b[0;34m\u001b[0m\u001b[0;34m\u001b[0m\u001b[0m\n\u001b[1;32m      3\u001b[0m     \u001b[0mprint\u001b[0m\u001b[0;34m(\u001b[0m\u001b[0msval\u001b[0m\u001b[0;34m)\u001b[0m\u001b[0;34m\u001b[0m\u001b[0;34m\u001b[0m\u001b[0m\n\u001b[0;32m----> 4\u001b[0;31m     \u001b[0mtransformed_coords\u001b[0m\u001b[0;34m=\u001b[0m\u001b[0mitk\u001b[0m\u001b[0;34m.\u001b[0m\u001b[0mtransformix_pointset\u001b[0m\u001b[0;34m(\u001b[0m\u001b[0mmv_140\u001b[0m\u001b[0;34m,\u001b[0m\u001b[0mtransform_to_apply\u001b[0m\u001b[0;34m,\u001b[0m\u001b[0mfixed_point_set_file_name\u001b[0m\u001b[0;34m=\u001b[0m\u001b[0;34m'/home/dennislab2/Desktop/2024-02-01/2024-02-01_points_s{}.txt'\u001b[0m\u001b[0;34m.\u001b[0m\u001b[0mformat\u001b[0m\u001b[0;34m(\u001b[0m\u001b[0msval\u001b[0m\u001b[0;34m)\u001b[0m\u001b[0;34m,\u001b[0m\u001b[0moutput_directory\u001b[0m\u001b[0;34m=\u001b[0m\u001b[0;34m\"/home/dennislab2/Desktop/2024-02-01\"\u001b[0m\u001b[0;34m)\u001b[0m\u001b[0;34m\u001b[0m\u001b[0;34m\u001b[0m\u001b[0m\n\u001b[0m\u001b[1;32m      5\u001b[0m     \u001b[0mdfx\u001b[0m\u001b[0;34m=\u001b[0m\u001b[0mpd\u001b[0m\u001b[0;34m.\u001b[0m\u001b[0mDataFrame\u001b[0m\u001b[0;34m(\u001b[0m\u001b[0mtransformed_coords\u001b[0m\u001b[0;34m)\u001b[0m\u001b[0;34m\u001b[0m\u001b[0;34m\u001b[0m\u001b[0m\n\u001b[1;32m      6\u001b[0m     \u001b[0mdfx\u001b[0m\u001b[0;34m.\u001b[0m\u001b[0mcolumns\u001b[0m \u001b[0;34m=\u001b[0m \u001b[0mdfx\u001b[0m\u001b[0;34m.\u001b[0m\u001b[0mcolumns\u001b[0m\u001b[0;34m.\u001b[0m\u001b[0mastype\u001b[0m\u001b[0;34m(\u001b[0m\u001b[0mstr\u001b[0m\u001b[0;34m)\u001b[0m\u001b[0;34m\u001b[0m\u001b[0;34m\u001b[0m\u001b[0m\n",
      "\u001b[0;32m~/mambaforge/envs/cm2/lib/python3.7/site-packages/itk/support/../ElastixPython.py\u001b[0m in \u001b[0;36mtransformix_pointset\u001b[0;34m(*args, **kwargs)\u001b[0m\n\u001b[1;32m    120\u001b[0m         \u001b[0mkwargs\u001b[0m\u001b[0;34m.\u001b[0m\u001b[0mpop\u001b[0m\u001b[0;34m(\u001b[0m\u001b[0;34m'reduce_output'\u001b[0m\u001b[0;34m)\u001b[0m\u001b[0;34m\u001b[0m\u001b[0;34m\u001b[0m\u001b[0m\n\u001b[1;32m    121\u001b[0m     \u001b[0mtransformix_object\u001b[0m \u001b[0;34m=\u001b[0m \u001b[0mitk\u001b[0m\u001b[0;34m.\u001b[0m\u001b[0mTransformixFilter\u001b[0m\u001b[0;34m.\u001b[0m\u001b[0mNew\u001b[0m\u001b[0;34m(\u001b[0m\u001b[0;34m*\u001b[0m\u001b[0margs\u001b[0m\u001b[0;34m,\u001b[0m \u001b[0;34m**\u001b[0m\u001b[0mkwargs\u001b[0m\u001b[0;34m)\u001b[0m\u001b[0;34m\u001b[0m\u001b[0;34m\u001b[0m\u001b[0m\n\u001b[0;32m--> 122\u001b[0;31m     \u001b[0mtransformix_object\u001b[0m\u001b[0;34m.\u001b[0m\u001b[0mUpdateLargestPossibleRegion\u001b[0m\u001b[0;34m(\u001b[0m\u001b[0;34m)\u001b[0m\u001b[0;34m\u001b[0m\u001b[0;34m\u001b[0m\u001b[0m\n\u001b[0m\u001b[1;32m    123\u001b[0m     \u001b[0moutput_dir\u001b[0m \u001b[0;34m=\u001b[0m \u001b[0mkwargs\u001b[0m\u001b[0;34m.\u001b[0m\u001b[0mget\u001b[0m\u001b[0;34m(\u001b[0m\u001b[0;34m'output_directory'\u001b[0m\u001b[0;34m,\u001b[0m \u001b[0;32mNone\u001b[0m\u001b[0;34m)\u001b[0m\u001b[0;34m\u001b[0m\u001b[0;34m\u001b[0m\u001b[0m\n\u001b[1;32m    124\u001b[0m     \u001b[0;32mif\u001b[0m \u001b[0moutput_dir\u001b[0m\u001b[0;34m:\u001b[0m\u001b[0;34m\u001b[0m\u001b[0;34m\u001b[0m\u001b[0m\n",
      "\u001b[0;31mKeyboardInterrupt\u001b[0m: "
     ]
    }
   ],
   "source": [
    "cells = np.zeros((530,530,530))\n",
    "for sval in np.arange(0,20):\n",
    "    print(sval)\n",
    "    transformed_coords=itk.transformix_pointset(mv,transform_to_apply,fixed_point_set_file_name='/home/dennislab2/Desktop/2024-02-01/2024-02-01_points_s{}.txt'.format(sval),output_directory=\"/home/dennislab2/Desktop/2024-02-01\")\n",
    "    dfx=pd.DataFrame(transformed_coords)\n",
    "    dfx.columns = dfx.columns.astype(str)\n",
    "    dfx = dfx[['46','47','48']]\n",
    "    dfx.columns=['x','y','z']\n",
    "    dfx.x=round(dfx.x.astype(int)/1.4).astype(int)\n",
    "    dfx.y=round(dfx.y.astype(int)/1.4).astype(int)\n",
    "    dfx.z=round(dfx.z.astype(int)/1.4).astype(int)\n",
    "    dfx.to_csv('/home/dennislab2/Desktop/2024-02-01/points_{}.csv'.format(sval))\n",
    "    for idx in dfx.index:\n",
    "        x,y,z=[dfx.x[idx],dfx.y[idx],dfx.z[idx]]\n",
    "        if (x<530) and (y<530) and (z<530):\n",
    "            cells[x,y,z]+=1\n",
    "np.save('/home/dennislab2/Desktop/2024-02-01_cells_at{}.npy'.format(sval),cells)\n"
   ]
  },
  {
   "cell_type": "code",
   "execution_count": null,
   "id": "b714fcaf",
   "metadata": {},
   "outputs": [],
   "source": []
  },
  {
   "cell_type": "code",
   "execution_count": null,
   "id": "927fdabe",
   "metadata": {},
   "outputs": [],
   "source": []
  },
  {
   "cell_type": "code",
   "execution_count": null,
   "id": "f114bb11",
   "metadata": {},
   "outputs": [],
   "source": [
    "    for idx in dfx.index:\n",
    "        x,y,z=[dfx.x[idx],dfx.y[idx],dfx.z[idx]]\n",
    "        if (x<530) and (y<530) and (z<530):\n",
    "            cells[x,y,z]+=1\n",
    "np.save('/home/dennislab2/Desktop/2024-02-01_cells_at{}.npy'.format(sval),cells)\n"
   ]
  },
  {
   "cell_type": "code",
   "execution_count": 2,
   "id": "8014343c",
   "metadata": {},
   "outputs": [],
   "source": [
    "# next just take in the allen coords and sort through the cells, get approx vals and send to paul"
   ]
  },
  {
   "cell_type": "code",
   "execution_count": 38,
   "id": "0b1b572a",
   "metadata": {},
   "outputs": [],
   "source": [
    "cells = np.load('/Users/dennise/Desktop/2024-02-01_cells_at19.npy')"
   ]
  },
  {
   "cell_type": "code",
   "execution_count": null,
   "id": "8a841819",
   "metadata": {},
   "outputs": [],
   "source": []
  },
  {
   "cell_type": "code",
   "execution_count": 39,
   "id": "e123ccd1",
   "metadata": {},
   "outputs": [],
   "source": [
    "tif.imsave('../../../../cells.tif',cells)"
   ]
  },
  {
   "cell_type": "code",
   "execution_count": 200,
   "id": "40dfa912",
   "metadata": {},
   "outputs": [],
   "source": [
    "\n",
    "ann_path = \"/Users/dennise/Desktop/emily/brains/annotation_template_25_resliced.tif\"\n",
    "new_erode_path = \"/Users/dennise/Desktop/emily/brains/annotation_template_25_resliced_eroded.tif\"\n",
    "ventricle_values = [108.0, 81.0, 116.0, 129.0, 145.0, 73.0]\n",
    "ventricular_microns_to_erode = 60\n",
    "edge_microns_to_erode = 60\n",
    "microns_to_erode=60\n",
    "zyx_scale = (25,25,25)\n",
    "\n",
    "#NOTE THIS ESSENTIALLY SCALES PIXEL SPACE*****\n",
    "from scipy.ndimage.morphology import distance_transform_edt\n",
    "import numpy as np\n",
    "import tifffile\n",
    "ann = tifffile.imread(ann_path)\n",
    "distance_space_inside = distance_transform_edt(ann.astype('bool'), sampling=zyx_scale)*-1 #INSIDE\n",
    "distance_space_inside = np.abs(distance_space_inside)\n",
    "mask = np.copy(distance_space_inside)\n",
    "mask[distance_space_inside<=microns_to_erode] = 0\n",
    "\n",
    "\n",
    "#zero out edges\n",
    "eann = np.copy(ann)\n",
    "eann[mask==0]=0\n",
    "tifffile.imsave(new_erode_path, eann)\n",
    "\n",
    "#######################################\n",
    "#%%Example eroding edges and ventricles\n",
    "#get ventricles - these are the values of ventricles in the annotation image (also the same as the look up file)\n",
    "\n",
    "\n",
    "#NOTE THIS ESSENTIALLY SCALES PIXEL SPACE*****\n",
    "import numpy as np\n",
    "import tifffile\n",
    "ann = tif.imread(ann_path)\n",
    "from scipy.ndimage.morphology import distance_transform_edt\n",
    "distance_space_inside = distance_transform_edt(ann.astype(\"bool\"), sampling=zyx_scale)*-1 #INSIDE\n",
    "distance_space_inside = np.abs(distance_space_inside)\n",
    "\n",
    "#zero out edges\n",
    "mask = np.copy(distance_space_inside)\n",
    "mask[distance_space_inside<=edge_microns_to_erode] = 0\n",
    "eann = np.copy(ann)\n",
    "eann[mask==0]=0\n",
    "ann = np.copy(eann)\n",
    "\n",
    "#now ventricles\n",
    "vann = np.copy(ann)\n",
    "vann[vann==0.0] = 1 \n",
    "vmask = np.isin(vann, ventricle_values)\n",
    "vann[vmask] = 0.0 #erode out nonventricular space adjacent to ventricles\n",
    "vann[vann!=0.0] = 1 \n",
    "distance_space_inside = distance_transform_edt(vann.astype(\"bool\"), sampling=zyx_scale)*-1 #INSIDE\n",
    "distance_space_inside = np.abs(distance_space_inside)\n",
    "mask = np.copy(distance_space_inside)\n",
    "mask[distance_space_inside<=ventricular_microns_to_erode] = 0\n",
    "\n",
    "#zero out ventricles\n",
    "eann = np.copy(ann)\n",
    "eann[mask==0]=0\n",
    "\n",
    "#now set anything that has been eroded to 73.0==ventricular systems\n",
    "voxs = np.where(eann != ann)\n",
    "eann[voxs] = 73.0\n",
    "tifffile.imsave(new_erode_path, eann.astype(\"float32\"))"
   ]
  },
  {
   "cell_type": "code",
   "execution_count": 202,
   "id": "e2b85f28",
   "metadata": {},
   "outputs": [],
   "source": [
    "anns=eann.copy()"
   ]
  },
  {
   "cell_type": "code",
   "execution_count": 215,
   "id": "17b9a862",
   "metadata": {},
   "outputs": [
    {
     "data": {
      "text/plain": [
       "0    {'id': 997, 'atlas_id': -1, 'ontology_id': 1, ...\n",
       "Name: msg, dtype: object"
      ]
     },
     "execution_count": 215,
     "metadata": {},
     "output_type": "execute_result"
    }
   ],
   "source": [
    "allenjson = pd.read_json('/Users/dennise/Desktop/allen.json')\n",
    "allenjson.msg"
   ]
  },
  {
   "cell_type": "code",
   "execution_count": null,
   "id": "7530ded9",
   "metadata": {},
   "outputs": [],
   "source": []
  },
  {
   "cell_type": "code",
   "execution_count": null,
   "id": "fde3a556",
   "metadata": {},
   "outputs": [],
   "source": []
  }
 ],
 "metadata": {
  "kernelspec": {
   "display_name": "Python 3 (ipykernel)",
   "language": "python",
   "name": "python3"
  },
  "language_info": {
   "codemirror_mode": {
    "name": "ipython",
    "version": 3
   },
   "file_extension": ".py",
   "mimetype": "text/x-python",
   "name": "python",
   "nbconvert_exporter": "python",
   "pygments_lexer": "ipython3",
   "version": "3.9.7"
  }
 },
 "nbformat": 4,
 "nbformat_minor": 5
}
